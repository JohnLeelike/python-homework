{
 "cells": [
  {
   "cell_type": "code",
   "execution_count": 186,
   "id": "4dc5a56b-ec37-4e29-ae2d-d5bb8c3199c2",
   "metadata": {},
   "outputs": [],
   "source": [
    "#imports\n",
    "from pathlib import Path\n",
    "import csv\n",
    "import pandas as pd"
   ]
  },
  {
   "cell_type": "code",
   "execution_count": 187,
   "id": "889b7c61-bf2e-44be-9879-4ac07e40632a",
   "metadata": {},
   "outputs": [],
   "source": [
    "file_path = Path('budget_data.csv')"
   ]
  },
  {
   "cell_type": "code",
   "execution_count": 188,
   "id": "7c6c0ad8-3c26-4888-b93d-8383a18805fd",
   "metadata": {},
   "outputs": [],
   "source": [
    "df = pd.read_csv('budget_data.csv')"
   ]
  },
  {
   "cell_type": "code",
   "execution_count": 189,
   "id": "d41a0c38-26ce-4729-a46e-dbd9ecea55ce",
   "metadata": {},
   "outputs": [],
   "source": [
    "#setting the variables\n",
    "total_months = 0\n",
    "net_total = 0\n",
    "average_changes = 0\n",
    "biggest_increase = 0\n",
    "biggest_increase_date = \"\"\n",
    "biggest_decrease = 0\n",
    "biggest_decrease_date = \"\""
   ]
  },
  {
   "cell_type": "code",
   "execution_count": 190,
   "id": "40561fb0-81c3-4096-bc4b-0d35976278d6",
   "metadata": {},
   "outputs": [],
   "source": [
    "#defining the function\n",
    "def calculations():\n",
    "#totals calculations\n",
    "    total_months = df.Date.count()\n",
    "    net_total = df.iloc[:,1].sum()    \n",
    "#calculating the max and min\n",
    "#    x = df.iloc[:,1]\n",
    "#for i in x:\n",
    "#    if i > highest:\n",
    "#        highest = i\n",
    "#for y in x:\n",
    "#    if y < lowest:\n",
    "#       lowest = y\n",
    "#An better way to calculate max and min is to do:\n",
    "    biggest_increase = df.iloc[:,1].max()\n",
    "    biggest_increase_date = df.Date.max()\n",
    "    biggest_decrease = df.iloc[:,1].min()\n",
    "    biggest_decrease_date = df.Date.min()\n",
    "    average_changes = df.iloc[:,1].mean()\n",
    "#print results\n",
    "    print(\"Financial Analysis\")\n",
    "    print(\"----------------------------\")\n",
    "    print(\"Total Months:\", total_months)\n",
    "    print(\"Total: $\", net_total)\n",
    "    print(\"Average  Change: $\", average_changes)\n",
    "    print(\"Greatest Increase in Profits:\", biggest_increase_date, \"$\", biggest_increase)\n",
    "    print(\"Greatest Decrease in Profits:\", biggest_decrease_date, \"$\", biggest_decrease)\n",
    " #output to file   \n",
    "    with open('output.txt', 'a') as f:\n",
    "        print(\"Financial Analysis\", file=f)\n",
    "        print(\"----------------------------\", file=f)\n",
    "        print(\"Total Months:\", total_months, file=f)\n",
    "        print(\"Total: $\", net_total, file=f)\n",
    "        print(\"Average  Change: $\", average_changes, file=f)\n",
    "        print(\"Greatest Increase in Profits:\", biggest_increase_date, \"$\", biggest_increase, file=f)\n",
    "        print(\"Greatest Decrease in Profits:\", biggest_decrease_date, \"$\", biggest_decrease, file=f)\n",
    "    f.close()"
   ]
  },
  {
   "cell_type": "code",
   "execution_count": null,
   "id": "aec569af-98b7-44df-924a-43d0642524ca",
   "metadata": {},
   "outputs": [
    {
     "name": "stdout",
     "output_type": "stream",
     "text": [
      "Financial Analysis\n",
      "----------------------------\n",
      "Total Months: 86\n",
      "Total: $ 38382578\n",
      "Average  Change: $ 446309.0465116279\n",
      "Greatest Increase in Profits: Sep-2016 $ 1170593\n",
      "Greatest Decrease in Profits: Apr-2010 $ -1196225\n"
     ]
    }
   ],
   "source": [
    "#rucalculations() "
   ]
  }
 ],
 "metadata": {
  "kernelspec": {
   "display_name": "Python 3",
   "language": "python",
   "name": "python3"
  },
  "language_info": {
   "codemirror_mode": {
    "name": "ipython",
    "version": 3
   },
   "file_extension": ".py",
   "mimetype": "text/x-python",
   "name": "python",
   "nbconvert_exporter": "python",
   "pygments_lexer": "ipython3",
   "version": "3.7.10"
  }
 },
 "nbformat": 4,
 "nbformat_minor": 5
}

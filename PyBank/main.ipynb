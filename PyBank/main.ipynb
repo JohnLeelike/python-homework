{
 "cells": [
  {
   "cell_type": "code",
   "execution_count": 186,
   "id": "4dc5a56b-ec37-4e29-ae2d-d5bb8c3199c2",
   "metadata": {},
   "outputs": [],
   "source": [
    "#imports\n",
    "from pathlib import Path\n",
    "import csv\n",
    "import pandas as pd"
   ]
  },
  {
   "cell_type": "code",
   "execution_count": 187,
   "id": "889b7c61-bf2e-44be-9879-4ac07e40632a",
   "metadata": {},
   "outputs": [],
   "source": [
    "file_path = Path('budget_data.csv')"
   ]
  },
  {
   "cell_type": "code",
   "execution_count": 188,
   "id": "7c6c0ad8-3c26-4888-b93d-8383a18805fd",
   "metadata": {},
   "outputs": [],
   "source": [
    "df = pd.read_csv('budget_data.csv')"
   ]
  },
  {
   "cell_type": "code",
   "execution_count": 189,
   "id": "d41a0c38-26ce-4729-a46e-dbd9ecea55ce",
   "metadata": {},
   "outputs": [],
   "source": [
    "#setting the variables\n",
    "total_months = 0\n",
    "net_total = 0\n",
    "average_changes = 0\n",
    "biggest_increase = 0\n",
    "biggest_increase_date = \"\"\n",
    "biggest_decrease = 0\n",
    "biggest_decrease_date = \"\""
   ]
  },
  {
   "cell_type": "code",
   "execution_count": 244,
   "id": "40561fb0-81c3-4096-bc4b-0d35976278d6",
   "metadata": {},
   "outputs": [],
   "source": [
    "#defining the function\n",
    "def calculations():\n",
    "#totals calculations\n",
    "    total_months = df.Date.count()\n",
    "    net_total = df.iloc[:,1].sum()    \n",
    "#calculating the max and min\n",
    "#    x = df.iloc[:,1]\n",
    "#for i in x:\n",
    "#    if i > highest:\n",
    "#        highest = i\n",
    "#for y in x:\n",
    "#    if y < lowest:\n",
    "#       lowest = y\n",
    "#An better way to calculate max and min is to do:\n",
    "#shift the columns and make one to calculate the difference\n",
    "    df['dA'] = df.iloc[:,1] - df.iloc[:,1].shift(1)\n",
    "    biggest_increase = df['dA'].max()\n",
    "#match the date item to the integer with biggest increase and decrease\n",
    "    biggest_increase_date = df.Date[df['dA'] == df['dA'].max()].item() \n",
    "    biggest_decrease = df['dA'].min()\n",
    "    biggest_decrease_date = df.Date[df['dA'] == df['dA'].min()].item() \n",
    "#find average\n",
    "    average_changes = df['dA'].mean()\n",
    "#print results\n",
    "    print(\"Financial Analysis\")\n",
    "    print(\"----------------------------\")\n",
    "    print(\"Total Months:\", total_months)\n",
    "    print(\"Total: $\", net_total)\n",
    "    print(\"Average  Change: $\", average_changes)\n",
    "    print(\"Greatest Increase in Profits:\", biggest_increase_date, \"$\", biggest_increase)\n",
    "    print(\"Greatest Decrease in Profits:\", biggest_decrease_date, \"$\", biggest_decrease)\n",
    " #output to file   \n",
    "    with open('output.txt', 'a') as f:\n",
    "        print(\"Financial Analysis\", file=f)\n",
    "        print(\"----------------------------\", file=f)\n",
    "        print(\"Total Months:\", total_months, file=f)\n",
    "        print(\"Total: $\", net_total, file=f)\n",
    "        print(\"Average  Change: $\", average_changes, file=f)\n",
    "        print(\"Greatest Increase in Profits:\", biggest_increase_date, \"$\", biggest_increase, file=f)\n",
    "        print(\"Greatest Decrease in Profits:\", biggest_decrease_date, \"$\", biggest_decrease, file=f)\n",
    "    f.close()"
   ]
  },
  {
   "cell_type": "code",
   "execution_count": 245,
   "id": "aec569af-98b7-44df-924a-43d0642524ca",
   "metadata": {},
   "outputs": [
    {
     "name": "stdout",
     "output_type": "stream",
     "text": [
      "Financial Analysis\n",
      "----------------------------\n",
      "Total Months: 86\n",
      "Total: $ 38382578\n",
      "Average  Change: $ -2315.1176470588234\n",
      "Greatest Increase in Profits: Feb-2012 $ 1926159.0\n",
      "Greatest Decrease in Profits: Sep-2013 $ -2196167.0\n"
     ]
    }
   ],
   "source": [
    "calculations()"
   ]
  },
  {
   "cell_type": "code",
   "execution_count": null,
   "id": "39d1b34a-366d-4322-a5a1-cbb360f15f49",
   "metadata": {},
   "outputs": [],
   "source": []
  }
 ],
 "metadata": {
  "kernelspec": {
   "display_name": "Python 3",
   "language": "python",
   "name": "python3"
  },
  "language_info": {
   "codemirror_mode": {
    "name": "ipython",
    "version": 3
   },
   "file_extension": ".py",
   "mimetype": "text/x-python",
   "name": "python",
   "nbconvert_exporter": "python",
   "pygments_lexer": "ipython3",
   "version": "3.7.10"
  }
 },
 "nbformat": 4,
 "nbformat_minor": 5
}
